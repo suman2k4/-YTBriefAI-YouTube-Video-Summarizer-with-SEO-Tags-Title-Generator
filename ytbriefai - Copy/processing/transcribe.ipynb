{
 "cells": [
  {
   "cell_type": "code",
   "execution_count": 1,
   "id": "0340de64",
   "metadata": {},
   "outputs": [],
   "source": [
    "\n",
    "import os\n",
    "from faster_whisper import WhisperModel"
   ]
  },
  {
   "cell_type": "code",
   "execution_count": 2,
   "id": "1f4306f3",
   "metadata": {},
   "outputs": [],
   "source": [
    "\n",
    "def transcribe_audio(input_audio_path, output_text_path=\"outputs/sample_transcript.txt\", model_size=\"base\"):\n",
    "    # Load the model\n",
    "    model = WhisperModel(model_size, compute_type=\"int8\")  # Change compute_type as needed\n",
    "\n",
    "    # Transcribe audio\n",
    "    segments, info = model.transcribe(input_audio_path)\n",
    "\n",
    "    full_text = \"\"\n",
    "    for segment in segments:\n",
    "        full_text += segment.text.strip() + \" \"\n",
    "\n",
    "    # Save transcript\n",
    "    os.makedirs(os.path.dirname(output_text_path), exist_ok=True)\n",
    "    with open(output_text_path, \"w\", encoding=\"utf-8\") as f:\n",
    "        f.write(full_text.strip())\n",
    "\n",
    "    print(f\"✅ Transcription saved to {output_text_path}\")"
   ]
  },
  {
   "cell_type": "code",
   "execution_count": 3,
   "id": "ea0ad1e1",
   "metadata": {},
   "outputs": [
    {
     "name": "stdout",
     "output_type": "stream",
     "text": [
      "✅ Transcription saved to outputs/sample_transcript.txt\n"
     ]
    }
   ],
   "source": [
    "\n",
    "if __name__ == \"__main__\":\n",
    "    input_audio = \"input/audio.mp3\"  # Make sure this exists\n",
    "    transcribe_audio(input_audio)\n"
   ]
  }
 ],
 "metadata": {
  "kernelspec": {
   "display_name": "Python 3",
   "language": "python",
   "name": "python3"
  },
  "language_info": {
   "codemirror_mode": {
    "name": "ipython",
    "version": 3
   },
   "file_extension": ".py",
   "mimetype": "text/x-python",
   "name": "python",
   "nbconvert_exporter": "python",
   "pygments_lexer": "ipython3",
   "version": "3.12.5"
  }
 },
 "nbformat": 4,
 "nbformat_minor": 5
}
